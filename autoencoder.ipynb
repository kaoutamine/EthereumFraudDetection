{
 "cells": [
  {
   "cell_type": "code",
   "execution_count": 8,
   "id": "efafa460",
   "metadata": {},
   "outputs": [],
   "source": [
    "import pandas as pd\n",
    "import torch\n",
    "import torch.nn as nn\n",
    "import torch.optim as optim\n",
    "import torch.nn.functional as F"
   ]
  },
  {
   "cell_type": "markdown",
   "id": "83b1f49a",
   "metadata": {},
   "source": [
    "# Data import and cleaning"
   ]
  },
  {
   "cell_type": "code",
   "execution_count": 9,
   "id": "6d5bc72c",
   "metadata": {},
   "outputs": [],
   "source": [
    "df = pd.read_csv(\"transaction_dataset.csv\")\n",
    "\n",
    "#Rename columns for easier access\n",
    "df.columns = df.columns.str.strip().str.replace(' ','_').str.lower()\n",
    "\n",
    "#Remove weird stuff \n",
    "df.drop(columns=['unnamed:_0'], inplace=True)\n",
    "\n",
    "#Remove duplicate accounts\n",
    "df.drop_duplicates(subset=['address'], inplace=True)\n",
    "\n",
    "#Remove token names \n",
    "df.drop(columns=['erc20_most_sent_token_type','erc20_most_rec_token_type'], inplace = True)\n",
    "\n",
    "#Remove var=0 columns\n",
    "df.drop(df.var(numeric_only=True)[df.var(numeric_only=True) == 0].index, axis = 1, inplace = True)\n",
    "\n",
    "#Remove small distribution columns\n",
    "small_distr_col = []\n",
    "for col in df.columns[3:] :\n",
    "    if len(df[col].value_counts()) < 10:\n",
    "        small_distr_col.append(col)\n",
    "df.drop(columns=small_distr_col,inplace = True)\n",
    "\n",
    "#Replace nan values by median \n",
    "df.fillna(df.median(numeric_only=True), inplace=True)"
   ]
  },
  {
   "cell_type": "markdown",
   "id": "bd51c4db",
   "metadata": {},
   "source": [
    "# Pytorch Autoencoder\n"
   ]
  },
  {
   "cell_type": "code",
   "execution_count": 6,
   "id": "13438769",
   "metadata": {},
   "outputs": [
    {
     "data": {
      "text/plain": [
       "36"
      ]
     },
     "execution_count": 6,
     "metadata": {},
     "output_type": "execute_result"
    }
   ],
   "source": [
    "len(df.columns)"
   ]
  },
  {
   "cell_type": "code",
   "execution_count": null,
   "id": "98552b5c",
   "metadata": {},
   "outputs": [],
   "source": []
  }
 ],
 "metadata": {
  "kernelspec": {
   "display_name": "Python [conda env:eth_fraud_env] *",
   "language": "python",
   "name": "conda-env-eth_fraud_env-py"
  },
  "language_info": {
   "codemirror_mode": {
    "name": "ipython",
    "version": 3
   },
   "file_extension": ".py",
   "mimetype": "text/x-python",
   "name": "python",
   "nbconvert_exporter": "python",
   "pygments_lexer": "ipython3",
   "version": "3.7.15"
  }
 },
 "nbformat": 4,
 "nbformat_minor": 5
}
